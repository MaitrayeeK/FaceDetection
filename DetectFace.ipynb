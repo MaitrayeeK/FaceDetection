{
 "cells": [
  {
   "cell_type": "code",
   "execution_count": 148,
   "id": "ffcf2e7a",
   "metadata": {},
   "outputs": [],
   "source": [
    "import cv2\n",
    "facemodel = cv2.CascadeClassifier(\"haarcascade_frontalface_default.xml\")"
   ]
  },
  {
   "cell_type": "code",
   "execution_count": 149,
   "id": "06d328d9",
   "metadata": {},
   "outputs": [],
   "source": [
    "photo = cv2.imread(\"download.jpeg\")\n",
    "withoutr = photo.copy()\n",
    "crop = photo.copy()"
   ]
  },
  {
   "cell_type": "code",
   "execution_count": 150,
   "id": "ffcdd988",
   "metadata": {},
   "outputs": [],
   "source": [
    "myface = facemodel.detectMultiScale(photo)[0]\n",
    "x1 = myface[0]\n",
    "x2 = x1 + myface[2]\n",
    "y1 = myface[1]\n",
    "y2 = y1 + myface[3]"
   ]
  },
  {
   "cell_type": "code",
   "execution_count": 151,
   "id": "d2195a62",
   "metadata": {},
   "outputs": [],
   "source": [
    "#detecting face\n",
    "cv2.rectangle(photo, (x1,y1), (x2, y2), [0, 255, 0], 5)\n",
    "cv2.imshow(\"myface\", photo)\n",
    "cv2.waitKey()\n",
    "cv2.destroyAllWindows()\n"
   ]
  },
  {
   "cell_type": "code",
   "execution_count": 152,
   "id": "eaaa7d6f",
   "metadata": {},
   "outputs": [],
   "source": [
    "#bluring face\n",
    "blurimage = cv2.blur(withoutr[y1:y2, x1:x2], (20,20))\n",
    "withoutr[y1:y2, x1:x2] = blurimage\n",
    "cv2.imshow(\"myface\", withoutr)\n",
    "cv2.waitKey()\n",
    "cv2.destroyAllWindows()\n"
   ]
  },
  {
   "cell_type": "code",
   "execution_count": 154,
   "id": "808042c3",
   "metadata": {},
   "outputs": [],
   "source": [
    "#croping face\n",
    "cv2.imshow(\"myface\", crop[y1:y2, x1:x2])\n",
    "cv2.waitKey()\n",
    "cv2.destroyAllWindows()"
   ]
  },
  {
   "cell_type": "code",
   "execution_count": null,
   "id": "17bf086f",
   "metadata": {},
   "outputs": [],
   "source": []
  }
 ],
 "metadata": {
  "kernelspec": {
   "display_name": "Python 3 (ipykernel)",
   "language": "python",
   "name": "python3"
  },
  "language_info": {
   "codemirror_mode": {
    "name": "ipython",
    "version": 3
   },
   "file_extension": ".py",
   "mimetype": "text/x-python",
   "name": "python",
   "nbconvert_exporter": "python",
   "pygments_lexer": "ipython3",
   "version": "3.10.9"
  }
 },
 "nbformat": 4,
 "nbformat_minor": 5
}
